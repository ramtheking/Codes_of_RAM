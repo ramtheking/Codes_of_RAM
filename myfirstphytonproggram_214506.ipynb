{
  "cells": [
    {
      "cell_type": "markdown",
      "metadata": {
        "id": "view-in-github",
        "colab_type": "text"
      },
      "source": [
        "<a href=\"https://colab.research.google.com/github/ramtheking/Codes_of_RAM/blob/main/myfirstphytonproggram_214506.ipynb\" target=\"_parent\"><img src=\"https://colab.research.google.com/assets/colab-badge.svg\" alt=\"Open In Colab\"/></a>"
      ]
    },
    {
      "cell_type": "code",
      "execution_count": null,
      "metadata": {
        "id": "GaVTRvFHpK10",
        "outputId": "f38a567d-364b-4c62-9eef-0711e1863abe",
        "colab": {
          "base_uri": "https://localhost:8080/"
        }
      },
      "outputs": [
        {
          "output_type": "stream",
          "name": "stdout",
          "text": [
            "sairam\n",
            "sai\n",
            "sai\n",
            "Ram Charan\n",
            "98\n"
          ]
        }
      ],
      "source": [
        "print('sairam')\n",
        "print('sai')\n",
        "print (\"sai\")\n",
        "print ('Ram Charan')\n",
        "a =98\n",
        "print (a)"
      ]
    },
    {
      "cell_type": "code",
      "execution_count": null,
      "metadata": {
        "id": "IYk9Yr86pK48"
      },
      "outputs": [],
      "source": [
        "print(\"Hello, World\")\n",
        "if 5 > 2 :\n",
        " print(\"five is greater than two\")\n",
        " if 9 > 2 :\n",
        "  print (\"nine  is greater than two\")\n",
        "else :\n",
        "   print (\"wrong\")"
      ]
    },
    {
      "cell_type": "code",
      "execution_count": null,
      "metadata": {
        "colab": {
          "base_uri": "https://localhost:8080/"
        },
        "id": "gUblMckkpK7x",
        "outputId": "d2a1a2a3-457f-4600-c363-c0b08e1b3af5"
      },
      "outputs": [
        {
          "name": "stdout",
          "output_type": "stream",
          "text": [
            "<class 'int'>\n"
          ]
        },
        {
          "data": {
            "text/plain": [
              "float"
            ]
          },
          "execution_count": 3,
          "metadata": {},
          "output_type": "execute_result"
        }
      ],
      "source": [
        "a = type (8)\n",
        "print (a)\n",
        "type (6.33)"
      ]
    },
    {
      "cell_type": "code",
      "execution_count": null,
      "metadata": {
        "colab": {
          "base_uri": "https://localhost:8080/"
        },
        "id": "viSDqGyupK-Y",
        "outputId": "dc795e0d-6739-43ba-beaf-80a0d8299053"
      },
      "outputs": [
        {
          "data": {
            "text/plain": [
              "9.0"
            ]
          },
          "execution_count": 4,
          "metadata": {},
          "output_type": "execute_result"
        }
      ],
      "source": [
        "float (9)"
      ]
    },
    {
      "cell_type": "code",
      "execution_count": null,
      "metadata": {
        "colab": {
          "base_uri": "https://localhost:8080/",
          "height": 36
        },
        "id": "YH-a5WX5pLBZ",
        "outputId": "1515901a-b273-4775-ce98-e3fe03447bab"
      },
      "outputs": [
        {
          "data": {
            "application/vnd.google.colaboratory.intrinsic+json": {
              "type": "string"
            },
            "text/plain": [
              "'1'"
            ]
          },
          "execution_count": 5,
          "metadata": {},
          "output_type": "execute_result"
        }
      ],
      "source": [
        "str(1)"
      ]
    },
    {
      "cell_type": "code",
      "execution_count": null,
      "metadata": {
        "colab": {
          "base_uri": "https://localhost:8080/"
        },
        "id": "98WqJW9GpLD0",
        "outputId": "271e3e96-f047-48a0-a43c-667911f77d23"
      },
      "outputs": [
        {
          "data": {
            "text/plain": [
              "True"
            ]
          },
          "execution_count": 6,
          "metadata": {},
          "output_type": "execute_result"
        }
      ],
      "source": [
        "\n",
        "True\n"
      ]
    },
    {
      "cell_type": "code",
      "execution_count": null,
      "metadata": {
        "colab": {
          "base_uri": "https://localhost:8080/"
        },
        "id": "1NbkMStnpLGu",
        "outputId": "a26d0f75-fcc8-45fa-adfe-ccb86756d99b"
      },
      "outputs": [
        {
          "data": {
            "text/plain": [
              "False"
            ]
          },
          "execution_count": 11,
          "metadata": {},
          "output_type": "execute_result"
        }
      ],
      "source": [
        "False"
      ]
    },
    {
      "cell_type": "code",
      "execution_count": null,
      "metadata": {
        "colab": {
          "base_uri": "https://localhost:8080/"
        },
        "id": "zy_v97zrpLJT",
        "outputId": "38ff8b0f-002a-43db-d90e-ad697dfbf196"
      },
      "outputs": [
        {
          "data": {
            "text/plain": [
              "False"
            ]
          },
          "execution_count": 12,
          "metadata": {},
          "output_type": "execute_result"
        }
      ],
      "source": [
        "bool(0)"
      ]
    },
    {
      "cell_type": "code",
      "execution_count": null,
      "metadata": {
        "colab": {
          "base_uri": "https://localhost:8080/"
        },
        "id": "rd706z3wpLMK",
        "outputId": "907bdddf-9b8d-44db-b06e-c9c1aaedd0bf"
      },
      "outputs": [
        {
          "data": {
            "text/plain": [
              "0"
            ]
          },
          "execution_count": 13,
          "metadata": {},
          "output_type": "execute_result"
        }
      ],
      "source": [
        "int(False)"
      ]
    },
    {
      "cell_type": "code",
      "execution_count": null,
      "metadata": {
        "colab": {
          "base_uri": "https://localhost:8080/"
        },
        "id": "AuHRPzuhpLPk",
        "outputId": "acb4779c-69ad-41d1-c724-72da8b60a309"
      },
      "outputs": [
        {
          "data": {
            "text/plain": [
              "1.0"
            ]
          },
          "execution_count": 14,
          "metadata": {},
          "output_type": "execute_result"
        }
      ],
      "source": [
        "float(True)"
      ]
    },
    {
      "cell_type": "code",
      "execution_count": null,
      "metadata": {
        "colab": {
          "base_uri": "https://localhost:8080/"
        },
        "id": "g1MiC6CmpLSn",
        "outputId": "5e5ceadf-551a-48be-da74-bdfd43fbec5a"
      },
      "outputs": [
        {
          "name": "stdout",
          "output_type": "stream",
          "text": [
            "coficient is 4\n"
          ]
        }
      ],
      "source": [
        "a = 9//2\n",
        "print(\"coficient is\",a)"
      ]
    },
    {
      "cell_type": "code",
      "execution_count": null,
      "metadata": {
        "id": "u4i7ictZpLVE"
      },
      "outputs": [],
      "source": [
        "p = 9%2\n",
        "print (p)\n"
      ]
    },
    {
      "cell_type": "code",
      "execution_count": null,
      "metadata": {
        "id": "NWH72Rm5pLZ-"
      },
      "outputs": [],
      "source": [
        "\n",
        "a = type (99)\n",
        "print (a)\n",
        "type (9.3)"
      ]
    },
    {
      "cell_type": "code",
      "execution_count": null,
      "metadata": {
        "colab": {
          "base_uri": "https://localhost:8080/"
        },
        "id": "Lm6FIRT8pLbq",
        "outputId": "6bb7ed7f-934d-456e-9f71-e3c67ce09c9c"
      },
      "outputs": [
        {
          "name": "stdout",
          "output_type": "stream",
          "text": [
            "<class 'int'>\n"
          ]
        },
        {
          "data": {
            "text/plain": [
              "float"
            ]
          },
          "execution_count": 18,
          "metadata": {},
          "output_type": "execute_result"
        }
      ],
      "source": [
        "\n",
        "a = type (99)\n",
        "print (a)\n",
        "type (9.3)"
      ]
    },
    {
      "cell_type": "code",
      "execution_count": null,
      "metadata": {
        "id": "MEjW3uvlpLgJ"
      },
      "outputs": [],
      "source": [
        ""
      ]
    },
    {
      "cell_type": "code",
      "execution_count": null,
      "metadata": {
        "id": "3AeU59QZpLiT"
      },
      "outputs": [],
      "source": [
        ""
      ]
    },
    {
      "cell_type": "code",
      "execution_count": null,
      "metadata": {
        "colab": {
          "base_uri": "https://localhost:8080/"
        },
        "id": "awxvmj66pLkk",
        "outputId": "66c3a9e5-8466-4cfd-927e-18ddeec27e2a"
      },
      "outputs": [
        {
          "name": "stdout",
          "output_type": "stream",
          "text": [
            "m\n"
          ]
        }
      ],
      "source": [
        "name = \"Ram Charan\"\n",
        "print (name[2])"
      ]
    },
    {
      "cell_type": "code",
      "execution_count": null,
      "metadata": {
        "colab": {
          "base_uri": "https://localhost:8080/"
        },
        "id": "Tw0boNtgpLmZ",
        "outputId": "9d6be31e-075f-4cc4-b087-1f5419efe34a"
      },
      "outputs": [
        {
          "name": "stdout",
          "output_type": "stream",
          "text": [
            "h\n"
          ]
        }
      ],
      "source": [
        "print (name[-5])"
      ]
    },
    {
      "cell_type": "code",
      "execution_count": null,
      "metadata": {
        "colab": {
          "base_uri": "https://localhost:8080/"
        },
        "id": "xhsMnNx-pLot",
        "outputId": "bc40176a-f699-4eab-828b-d673224a6a69"
      },
      "outputs": [
        {
          "data": {
            "text/plain": [
              "10"
            ]
          },
          "execution_count": 20,
          "metadata": {},
          "output_type": "execute_result"
        }
      ],
      "source": [
        "len ('Ram charan')"
      ]
    },
    {
      "cell_type": "code",
      "execution_count": null,
      "metadata": {
        "colab": {
          "base_uri": "https://localhost:8080/",
          "height": 36
        },
        "id": "RBzsFQGypLrs",
        "outputId": "87695349-3e74-412e-ecd3-dba73ff2afa5"
      },
      "outputs": [
        {
          "data": {
            "application/vnd.google.colaboratory.intrinsic+json": {
              "type": "string"
            },
            "text/plain": [
              "'Ram '"
            ]
          },
          "execution_count": 21,
          "metadata": {},
          "output_type": "execute_result"
        }
      ],
      "source": [
        "name[0:4]"
      ]
    },
    {
      "cell_type": "code",
      "execution_count": null,
      "metadata": {
        "colab": {
          "base_uri": "https://localhost:8080/",
          "height": 36
        },
        "id": "bGm1AiDXpLuh",
        "outputId": "c85c7079-2253-4bbc-d523-3b660d7ceb7f"
      },
      "outputs": [
        {
          "data": {
            "application/vnd.google.colaboratory.intrinsic+json": {
              "type": "string"
            },
            "text/plain": [
              "'RmCaa'"
            ]
          },
          "execution_count": 22,
          "metadata": {},
          "output_type": "execute_result"
        }
      ],
      "source": [
        "name [::2]\n"
      ]
    },
    {
      "cell_type": "code",
      "execution_count": null,
      "metadata": {
        "id": "lIgtRPCmpLxM"
      },
      "outputs": [],
      "source": [
        "name [0:5:3]"
      ]
    },
    {
      "cell_type": "code",
      "execution_count": null,
      "metadata": {
        "colab": {
          "base_uri": "https://localhost:8080/"
        },
        "id": "p-VL2NmdpL0N",
        "outputId": "56df61f0-511f-4e3d-bac6-9467c72775b1"
      },
      "outputs": [
        {
          "name": "stdout",
          "output_type": "stream",
          "text": [
            "Ram Charanking\n"
          ]
        }
      ],
      "source": [
        "  print (name +   \"king\")"
      ]
    },
    {
      "cell_type": "code",
      "execution_count": null,
      "metadata": {
        "colab": {
          "base_uri": "https://localhost:8080/"
        },
        "id": "qn3u1a9lpL29",
        "outputId": "2cc6991b-ff38-434d-fa08-41d5bdacb0c4"
      },
      "outputs": [
        {
          "name": "stdout",
          "output_type": "stream",
          "text": [
            "1023.5\n"
          ]
        }
      ],
      "source": [
        "b = 23\n",
        "h =89\n",
        "area = 1/2*b*h\n",
        "print (area)"
      ]
    },
    {
      "cell_type": "code",
      "execution_count": null,
      "metadata": {
        "colab": {
          "base_uri": "https://localhost:8080/"
        },
        "id": "nKv9iSTQpL5q",
        "outputId": "784a4a2b-e091-4450-daca-a318f46d3d1f"
      },
      "outputs": [
        {
          "name": "stdout",
          "output_type": "stream",
          "text": [
            " revolves\n"
          ]
        }
      ],
      "source": [
        "name1 = \" Earth revolves around the sun \"\n",
        "print (name1 [6:15])"
      ]
    },
    {
      "cell_type": "code",
      "execution_count": null,
      "metadata": {
        "colab": {
          "base_uri": "https://localhost:8080/",
          "height": 36
        },
        "id": "8rRrFLXgpL8j",
        "outputId": "6fa7b265-d7b9-4eb2-c717-a1b4c1b80f13"
      },
      "outputs": [
        {
          "data": {
            "application/vnd.google.colaboratory.intrinsic+json": {
              "type": "string"
            },
            "text/plain": [
              "'sun'"
            ]
          },
          "execution_count": 26,
          "metadata": {},
          "output_type": "execute_result"
        }
      ],
      "source": [
        "name1 [-4:-1]"
      ]
    },
    {
      "cell_type": "code",
      "execution_count": null,
      "metadata": {
        "colab": {
          "base_uri": "https://localhost:8080/"
        },
        "id": "KvBGlNIt5OVg",
        "outputId": "3ec7747f-408c-49bc-9d02-0773c99eafcc"
      },
      "outputs": [
        {
          "name": "stdout",
          "output_type": "stream",
          "text": [
            "I love eating veggies and fruits\n"
          ]
        }
      ],
      "source": [
        "name2 = \"I love eating\"\n",
        "name3 = \" veggies \"\n",
        "name4 = \" fruits\"\n",
        "print (name2 + name3 + \"and\" + name4)"
      ]
    },
    {
      "cell_type": "code",
      "execution_count": null,
      "metadata": {
        "colab": {
          "base_uri": "https://localhost:8080/"
        },
        "id": "ZQPgbacTpMBr",
        "outputId": "84f4f4f0-334c-4239-82a5-bc1a75324736"
      },
      "outputs": [
        {
          "name": "stdout",
          "output_type": "stream",
          "text": [
            "I love eating 4  fruits everyday\n"
          ]
        }
      ],
      "source": [
        "num = \" 4 \"\n",
        "print (name2 + num + name4 + \" everyday\")"
      ]
    },
    {
      "cell_type": "code",
      "execution_count": null,
      "metadata": {
        "id": "tql2gx7xpMES"
      },
      "outputs": [],
      "source": [
        "p = float (input ('p =  '))\n",
        "t = float (input ('t = ')) \n",
        "r = float (input ('r =  '))\n",
        "ptr = ((t - p)* 100 ) / (p* r)\n",
        "print (ptr)"
      ]
    },
    {
      "cell_type": "code",
      "execution_count": null,
      "metadata": {
        "colab": {
          "background_save": true
        },
        "id": "V2xP__c-pMHN"
      },
      "outputs": [],
      "source": [
        "cost = 5\n",
        "paid = 10\n",
        "returns = (paid - cost)\n",
        "print (returns)"
      ]
    },
    {
      "cell_type": "code",
      "execution_count": null,
      "metadata": {
        "colab": {
          "background_save": true
        },
        "id": "xGgnj62fpMLn"
      },
      "outputs": [],
      "source": [
        "2 * (3 + 9) / 5"
      ]
    },
    {
      "cell_type": "code",
      "execution_count": null,
      "metadata": {
        "id": "eucxEx5QpMPz"
      },
      "outputs": [],
      "source": [
        "5 // (4 + 5) % 4"
      ]
    },
    {
      "cell_type": "code",
      "execution_count": null,
      "metadata": {
        "id": "uSRluh7ApMT1"
      },
      "outputs": [],
      "source": [
        "2 * 3 + 9 / 5"
      ]
    },
    {
      "cell_type": "code",
      "execution_count": null,
      "metadata": {
        "id": "rOaXiKhupMXK"
      },
      "outputs": [],
      "source": [
        "r = float(input('R = ')) \n",
        "t1 = float(input('Larger Time = ')) \n",
        "t2 = float(input('Shorter Time = ')) \n",
        "dif = float(input('Difference between interests : '))\n",
        "\n",
        "si1 = (p*r*t1)/100\n",
        "si2 = (p*r*t2)/100\n",
        "p = (dif / r * (t1 - t2)) * 100\n",
        "print(p)"
      ]
    },
    {
      "cell_type": "code",
      "execution_count": null,
      "metadata": {
        "id": "mWO82O_epMb-"
      },
      "outputs": [],
      "source": [
        "2 ** (3*3)"
      ]
    },
    {
      "cell_type": "code",
      "execution_count": null,
      "metadata": {
        "id": "CfBgxXYwpMk0"
      },
      "outputs": [],
      "source": [
        "2**3"
      ]
    },
    {
      "cell_type": "code",
      "execution_count": null,
      "metadata": {
        "id": "Y1YuudMkpMpB"
      },
      "outputs": [],
      "source": [
        "1 > 0"
      ]
    },
    {
      "cell_type": "code",
      "execution_count": null,
      "metadata": {
        "id": "3OwbZUltpMq9"
      },
      "outputs": [],
      "source": [
        "# and operator true and true will be true\n",
        "# and operator true and false will be false\n",
        "# and operator false and true will be false\n",
        "# and operator false and false will be false\n",
        "A = True\n",
        "B= False\n",
        "B and B"
      ]
    },
    {
      "cell_type": "code",
      "execution_count": null,
      "metadata": {
        "id": "tGLkbdmmpMtQ"
      },
      "outputs": [],
      "source": [
        "'hello' + \" 1\""
      ]
    },
    {
      "cell_type": "code",
      "execution_count": null,
      "metadata": {
        "id": "RwL-88eUpMvX"
      },
      "outputs": [],
      "source": [
        "if 4 > 9 :\n",
        "  print (\"first is greater than 2\")\n",
        "else :\n",
        "   print (\"sencond num is greater thann first\")"
      ]
    },
    {
      "cell_type": "code",
      "execution_count": null,
      "metadata": {
        "id": "z2nuvgIWpMxF"
      },
      "outputs": [],
      "source": [
        "if 4 > 9 :\n",
        "  print(1+1)"
      ]
    },
    {
      "cell_type": "code",
      "execution_count": null,
      "metadata": {
        "id": "JFLx15cUpMyt"
      },
      "outputs": [],
      "source": [
        "h = 10\n",
        "o = 10\n",
        "if (h == o):\n",
        " print('Both numbers are equal')\n",
        "elif (x>y): \n",
        "      print('The first number is greater than the second one')\n",
        "else:\n",
        "        print(\"The second number is greater than the first one\")"
      ]
    },
    {
      "cell_type": "code",
      "execution_count": null,
      "metadata": {
        "id": "eAt9DTIgpM0k"
      },
      "outputs": [],
      "source": [
        "a=float(input(\"Enter your score\\n\"))\n",
        "if(a>=80):\n",
        "    print(\"A\")\n",
        "elif(a>=40 and a<=80):\n",
        "          print(\"B\")\n",
        "else:\n",
        "   print('F')"
      ]
    },
    {
      "cell_type": "code",
      "execution_count": null,
      "metadata": {
        "id": "GZyUYq2OpM2F"
      },
      "outputs": [],
      "source": [
        "k1 = float(input(\"Enter Hour\\n\"))\n",
        "k2 = float(input(\"Enter rate\\n\"))\n",
        "\n",
        "if(k1>40):\n",
        "  k3=(k1-40)*1.5*k2+(40*k2)\n",
        "else:\n",
        "  k3=k1*k2  \n",
        "  \n",
        "print(k3)"
      ]
    },
    {
      "cell_type": "code",
      "execution_count": null,
      "metadata": {
        "id": "7pd5KrBHpM3z"
      },
      "outputs": [],
      "source": [
        "try:\n",
        "   n1 = float(input(\"Enter Hour\\n\"))\n",
        "   n2 = float(input(\"Enter rate\\n\"))\n",
        "\n",
        "   if (n1>40):\n",
        "     n3=(n1-40)*1.5*n2+(40*n2)\n",
        "   else:\n",
        "     n3=n1*n2   \n",
        "     print(n3)\n",
        "except:\n",
        "  print(\"Please enter numeric input\")"
      ]
    },
    {
      "cell_type": "code",
      "execution_count": null,
      "metadata": {
        "id": "YdlXJVkytPBR"
      },
      "outputs": [],
      "source": [
        "a=float(input(\"Enter your score\\n\"))\n",
        "if(a<0.0 or a>1.0) :\n",
        "  print(\"Score is out of range!!\")\n",
        "elif(a>=0.9):\n",
        "  print(\"A\")\n",
        "elif(a>=0.8):\n",
        "  print(\"B\")\n",
        "elif(a>=0.7):\n",
        "  print(\"C\")\n",
        "elif(a>=0.6):\n",
        "  print(\"D\")      \n",
        "else:\n",
        "  print(\"F\")"
      ]
    },
    {
      "cell_type": "code",
      "execution_count": null,
      "metadata": {
        "id": "Z7zPJe4ktPES"
      },
      "outputs": [],
      "source": [
        "a=float(input('Enter the year\\n'))\n",
        "if (a % 4 ==0 and a % 400 == 0 or a != 0):\n",
        "  print('The year is leap year')\n",
        "else:\n",
        "  print('The year is not a leap year')"
      ]
    },
    {
      "cell_type": "code",
      "execution_count": null,
      "metadata": {
        "id": "8YYQ7Ri7tPHH"
      },
      "outputs": [],
      "source": [
        "import this"
      ]
    },
    {
      "cell_type": "code",
      "execution_count": null,
      "metadata": {
        "id": "Wh_Ah5cdtPKA"
      },
      "outputs": [],
      "source": [
        "name = \"chunk\"\n",
        "print (\"hello \" + name )"
      ]
    },
    {
      "cell_type": "markdown",
      "metadata": {
        "id": "Onb_CLcAtlc9"
      },
      "source": [
        "excercise 3 h = numberof hours worked , p = box paid per hour"
      ]
    },
    {
      "cell_type": "code",
      "execution_count": null,
      "metadata": {
        "id": "Ie0g_HuatPMu"
      },
      "outputs": [],
      "source": [
        "h = 53.3\n",
        "p = 6.9\n",
        "gross = h * p\n",
        "print (gross)"
      ]
    },
    {
      "cell_type": "markdown",
      "metadata": {
        "id": "Lk-cv28qtrdV"
      },
      "source": [
        "excersice 4"
      ]
    },
    {
      "cell_type": "code",
      "execution_count": null,
      "metadata": {
        "id": "J9vPql2ltPPg"
      },
      "outputs": [],
      "source": [
        "width = 31\n",
        "height = 27.7\n",
        "print (width//2) "
      ]
    },
    {
      "cell_type": "code",
      "execution_count": null,
      "metadata": {
        "id": "YPTvrGvvtPcJ"
      },
      "outputs": [],
      "source": [
        "print (width/2.0)"
      ]
    },
    {
      "cell_type": "code",
      "execution_count": null,
      "metadata": {
        "id": "XZgVKyeUtPf1"
      },
      "outputs": [],
      "source": [
        "\n",
        "print (height /3)"
      ]
    },
    {
      "cell_type": "code",
      "execution_count": null,
      "metadata": {
        "id": "xz1XyqQItPit"
      },
      "outputs": [],
      "source": [
        "k = 15 + 27 * 51\n",
        "print (k)\n"
      ]
    },
    {
      "cell_type": "code",
      "execution_count": null,
      "metadata": {
        "id": "oi_EtvfntPll"
      },
      "outputs": [],
      "source": [
        "c = 55.6\n",
        "f = ( c * 9/5 ) + 32\n",
        "print (f)"
      ]
    },
    {
      "cell_type": "code",
      "execution_count": null,
      "metadata": {
        "id": "bVM1dGWgtPnS"
      },
      "outputs": [],
      "source": [
        ""
      ]
    },
    {
      "cell_type": "code",
      "execution_count": null,
      "metadata": {
        "id": "LBz36l1nRbyH"
      },
      "outputs": [],
      "source": [
        "f = (100)\n",
        "if f < 105 :\n",
        "    print (\" he is suffering from feaver\")\n",
        "else :\n",
        "      print (\"health is good\")"
      ]
    },
    {
      "cell_type": "code",
      "execution_count": null,
      "metadata": {
        "id": "Zwjk7kvitPrr"
      },
      "outputs": [],
      "source": [
        "p = float(input('P = '))\n",
        "a = float(input('A = ')) \n",
        "t = float(input('T = ')) \n",
        "r = ((a - p) * 100) / (p * t)\n",
        "print(r)"
      ]
    },
    {
      "cell_type": "markdown",
      "metadata": {
        "id": "9FlVLCDYuFs6"
      },
      "source": [
        "les 1 ex7"
      ]
    },
    {
      "cell_type": "code",
      "execution_count": null,
      "metadata": {
        "id": "It6Id7eKtPxq"
      },
      "outputs": [],
      "source": [
        "x = 43\n",
        "x = x + 1\n",
        "print(x)"
      ]
    },
    {
      "cell_type": "markdown",
      "metadata": {
        "id": "vooB0Ih-JWwr"
      },
      "source": [
        "***`FUNCTIONS`***:![fun.png](data:image/png;base64,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)\n",
        "\n"
      ]
    },
    {
      "cell_type": "code",
      "execution_count": null,
      "metadata": {
        "colab": {
          "base_uri": "https://localhost:8080/"
        },
        "id": "Wi0T0exptP6M",
        "outputId": "1335d07d-e02e-4420-9dff-774d3fb557db"
      },
      "outputs": [
        {
          "name": "stdout",
          "output_type": "stream",
          "text": [
            "\n",
            "You are doing good work, Ram!\n"
          ]
        }
      ],
      "source": [
        "def thankyou(king):\n",
        " print(\"\\nYou are doing good work, %s!\" % king)\n",
        "\n",
        "thankyou('Ram')"
      ]
    },
    {
      "cell_type": "code",
      "execution_count": null,
      "metadata": {
        "id": "glZBXVW1tP80"
      },
      "outputs": [],
      "source": [
        "A = 5 / 5\n",
        "print (A)"
      ]
    },
    {
      "cell_type": "code",
      "execution_count": null,
      "metadata": {
        "id": "YDEHRkTxtP_p"
      },
      "outputs": [],
      "source": [
        "thankyou('ghghgh')\n",
        "\n",
        "def thankyou(abc):\n",
        " print(\"\\ndong good, %s!\" % abc)"
      ]
    },
    {
      "cell_type": "code",
      "execution_count": null,
      "metadata": {
        "id": "lEykNK8YtQCb"
      },
      "outputs": [],
      "source": [
        "def raj(x,y):\n",
        "  return x*y;\n",
        "\n",
        "num1=5\n",
        "num2=6\n",
        "print(\"the product is:\" , raj(num))"
      ]
    },
    {
      "cell_type": "markdown",
      "metadata": {
        "id": "DuHGXYDKulUv"
      },
      "source": [
        "LIST"
      ]
    },
    {
      "cell_type": "code",
      "execution_count": null,
      "metadata": {
        "id": "OBLx5njOtQHm"
      },
      "outputs": [],
      "source": [
        "List = [0,1,2,\"king\",4,5]\n",
        "List[0:4]"
      ]
    },
    {
      "cell_type": "code",
      "execution_count": null,
      "metadata": {
        "id": "ahgQZVqFtQLS"
      },
      "outputs": [],
      "source": [
        "List[1:6]"
      ]
    },
    {
      "cell_type": "code",
      "execution_count": null,
      "metadata": {
        "id": "hHeOF78StQOU"
      },
      "outputs": [],
      "source": [
        "List[:-1]"
      ]
    },
    {
      "cell_type": "code",
      "execution_count": null,
      "metadata": {
        "id": "ZWZGco10tQSF"
      },
      "outputs": [],
      "source": [
        "List[-5:-2]"
      ]
    },
    {
      "cell_type": "code",
      "execution_count": null,
      "metadata": {
        "id": "VkM75GLstQUK"
      },
      "outputs": [],
      "source": [
        "List[0:9]\n",
        "# after : depits count : , "
      ]
    },
    {
      "cell_type": "code",
      "execution_count": null,
      "metadata": {
        "id": "yFrwlnGEtQXG"
      },
      "outputs": [],
      "source": [
        "l = [\"michle\",10.36,1999]\n",
        "l[-3]"
      ]
    },
    {
      "cell_type": "code",
      "execution_count": null,
      "metadata": {
        "id": "d9OTGum3tQal"
      },
      "outputs": [],
      "source": [
        "h = \"hfdk,jgrtwe\"\n",
        "#[::2] startv with 2nd and end with nth\n",
        "#[-2::-3]\n",
        "h[::2]"
      ]
    },
    {
      "cell_type": "code",
      "execution_count": null,
      "metadata": {
        "id": "W15q6Z5RtQdj"
      },
      "outputs": [],
      "source": [
        "def palindrome(kk):\n",
        " return kk == kk[::1] \n",
        " kk = \"22022022\"\n",
        " ans = palindrome(kk)\n",
        " if ans :\n",
        "   print(\"yes\")\n",
        " else:\n",
        "  print(\"no\")"
      ]
    },
    {
      "cell_type": "code",
      "execution_count": null,
      "metadata": {
        "id": "CtqprdzFtQgU"
      },
      "outputs": [],
      "source": [
        "price1 = float(input('Enter the 1 price : '))\n",
        "piece1 = float(input('Enter the 1 box : '))\n",
        "price2 = float(input('Enter the 2 price : '))\n",
        "piece2 = float(input('Enter the 2 box : '))\n",
        "\n",
        "elasticity = (piece2 - piece1) / (price2 - price1)\n",
        "print(elasticity)\n",
        "if (elasticity < 1) :\n",
        " print(\"inelasatic\")\n",
        "elif (elasticity > 1) :\n",
        " print (\"elastc\")"
      ]
    },
    {
      "cell_type": "code",
      "execution_count": null,
      "metadata": {
        "id": "frxaXG_TtQjg"
      },
      "outputs": [],
      "source": [
        "def elast(price1,box1,price2,box2):\n",
        "  elasticity = (box2 - box1) / (price2 - price1)\n",
        "  return (elasticity)\n",
        "  \n",
        "def scale_elast(elasticity):\n",
        "  if elasticity == 0 : \n",
        "    return 'Perfectly Inelastic'\n",
        "  elif elasticity < 1 :\n",
        "    return 'Relatively inelastic'\n",
        "  elif elasticity == 1 : \n",
        "    return 'Unit Elastic'\n",
        "  elif elasticity > 1 : \n",
        "    return 'Relatively Elastic'\n",
        "\n",
        "price1 = float(input('Enter the prior price : '))\n",
        "box1 = float(input('Enter the prior box : '))\n",
        "price2 = float(input('Enter the latter price : '))\n",
        "box2 = float(input('Enter the latter box : '))\n",
        "\n",
        "elasticity = elast(price1,box1,price2,box2)\n",
        "print('Elasticity = ',elasticity)\n",
        "\n",
        "character = scale_elast(elasticity)\n",
        "print('Character of product = ', character)"
      ]
    },
    {
      "cell_type": "code",
      "execution_count": null,
      "metadata": {
        "id": "m3YhTOA4tQmj"
      },
      "outputs": [],
      "source": [
        "def elasticity():\n",
        "  try:  \n",
        "    p1 = float(input(\"Please enter the org price \"))\n",
        "    p2 = float (input(\"Please enter new price \"))\n",
        "    a1 = float(input(\"Please enter old amount \"))\n",
        "    a2 = float(input(\"Please enter new amount \"))\n",
        "    elasticity = (a2-a1)/(p2-p1)\n",
        "    if elasticity == 0:\n",
        "      return (\"Demand is totally inelastic\")\n",
        "    elif elasticity < 0 :\n",
        "      return (\"Demand is inelastic\")\n",
        "    elif elasticity == 1 :\n",
        "      return (\"Demand is unit elastic\")\n",
        "    elif elasticity > 1:\n",
        "      return(\"Demand is elastic\") \n",
        "  except ZeroDivisionError:\n",
        "    return (\"Demand is infinite\")"
      ]
    },
    {
      "cell_type": "markdown",
      "metadata": {
        "id": "nu3NpLJtvM_u"
      },
      "source": [
        "\n",
        "WHILE LOOP"
      ]
    },
    {
      "cell_type": "code",
      "execution_count": null,
      "metadata": {
        "id": "WjWMol_7tQso"
      },
      "outputs": [],
      "source": [
        "i = 1\n",
        "while i < 11:\n",
        "  print(i)\n",
        "  i += 0.5"
      ]
    },
    {
      "cell_type": "code",
      "execution_count": null,
      "metadata": {
        "id": "QVE20kTQtQwP"
      },
      "outputs": [],
      "source": [
        "i = 2\n",
        "while i < 8:\n",
        "  print(i)\n",
        "  if i == 5:\n",
        "    break\n",
        "  i += 2"
      ]
    },
    {
      "cell_type": "code",
      "execution_count": null,
      "metadata": {
        "id": "x9hMYmeltQzD"
      },
      "outputs": [],
      "source": [
        "i = 8\n",
        "while i < 25:\n",
        "  print(i)\n",
        "  i += 3\n",
        "else:\n",
        "  print(\"i is no longer less than 6\")"
      ]
    },
    {
      "cell_type": "code",
      "execution_count": null,
      "metadata": {
        "id": "Lxu2Nh_DtQ0-"
      },
      "outputs": [],
      "source": [
        "dates = [1982, 1980, 1973, 2000, 2014, 2015]\n",
        "\n",
        "i = 0\n",
        "year = 0\n",
        "\n",
        "while(year != 1982):\n",
        "    year = dates[i]\n",
        "    i = i + 1\n",
        "    print(year)\n",
        "\n",
        "print(\"It took \", i ,\"repetitions to get out of loop.\")"
      ]
    },
    {
      "cell_type": "code",
      "execution_count": null,
      "metadata": {
        "id": "uaozqvu6pM5g"
      },
      "outputs": [],
      "source": [
        "while True:\n",
        "  line = input('> ')\n",
        "  if line == 'done':\n",
        "    break\n",
        "  print(line)\n",
        "print('Done!')"
      ]
    },
    {
      "cell_type": "markdown",
      "metadata": {
        "id": "QLOVsFF4veqH"
      },
      "source": [
        "\n",
        "`FOR LOOP`"
      ]
    },
    {
      "cell_type": "code",
      "execution_count": null,
      "metadata": {
        "id": "gFdsaL1gviAb"
      },
      "outputs": [],
      "source": [
        "fruits = [\"apple\", \"banana\", \"cherry\"]\n",
        "\n",
        "for x in fruits:\n",
        "  print(x)"
      ]
    },
    {
      "cell_type": "code",
      "execution_count": null,
      "metadata": {
        "id": "LrJAXEALviEM"
      },
      "outputs": [],
      "source": [
        "for x in \"jamed\":\n",
        "  print(x)"
      ]
    },
    {
      "cell_type": "code",
      "execution_count": null,
      "metadata": {
        "id": "Avv_sVeEviGT"
      },
      "outputs": [],
      "source": [
        "#fruits = [\"apple\", \"banana\", \"cherry\"]\n",
        "snacks = [\"bhats\",\"samosa\", \"biscuits\",\"bomos\",\"chocolates\",\"oats\"]\n",
        "for menu in snacks:\n",
        "  if (menu[0] == \"b\"):\n",
        "    print(menu)\n",
        "#for x in fruits:\n",
        "#  print(x)"
      ]
    },
    {
      "cell_type": "code",
      "execution_count": null,
      "metadata": {
        "id": "YGHbQ7HZviIf"
      },
      "outputs": [],
      "source": [
        "# Use for loop to change the elements in list\n",
        "\n",
        "squares = ['red', 'yellow', 'green', 'purple', 'blue']\n",
        "\n",
        "for i in range(0, 5):\n",
        "    print(\"Before square \", i, 'is',  squares[i])\n",
        "    squares[i] = 'white'\n",
        "    print(\"After square \", i, 'is',  squares[i])"
      ]
    },
    {
      "cell_type": "code",
      "execution_count": null,
      "metadata": {
        "id": "MWA9dCSHviLn"
      },
      "outputs": [],
      "source": [
        "# Use the range\n",
        "\n",
        "range(8)"
      ]
    },
    {
      "cell_type": "code",
      "execution_count": null,
      "metadata": {
        "id": "0lEF_troviPr"
      },
      "outputs": [],
      "source": [
        "# Example of for loop\n",
        "\n",
        "for i in range(0, 8):\n",
        "    print(i)"
      ]
    },
    {
      "cell_type": "markdown",
      "metadata": {
        "id": "JHczulQXv5J2"
      },
      "source": [
        "panda"
      ]
    },
    {
      "cell_type": "code",
      "execution_count": null,
      "metadata": {
        "id": "BxUrBmvKviYo"
      },
      "outputs": [],
      "source": [
        "import numpy as np\n",
        "import pandas as pd"
      ]
    },
    {
      "cell_type": "code",
      "execution_count": null,
      "metadata": {
        "id": "RUOD12Kxviax"
      },
      "outputs": [],
      "source": [
        "# Create and populate a 5x2 NumPy array.\n",
        "my_data = np.array([[0, 3], [10, 7], [20, 9], [30, 14], [40, 15]])\n",
        "\n",
        "# Create a Python list that holds the names of the two columns.\n",
        "my_column_names = ['temperature', 'activity']\n",
        "\n",
        "# Create a DataFrame.\n",
        "my_dataframe = pd.DataFrame(data=my_data, columns=my_column_names)\n",
        "\n",
        "# Print the entire DataFrame\n",
        "print(my_dataframe)"
      ]
    },
    {
      "cell_type": "code",
      "execution_count": null,
      "metadata": {
        "id": "RFHDvVIrvicy"
      },
      "outputs": [],
      "source": [
        "# Create and populate a 5x3 NumPy array.\n",
        "my_data = np.array([[214501, 'Ravi' ,23], [245102,'Anirudh', 7], [205309,'Aswath', 9], [30456,'Sidharth', 14], [40567,'Amey', 15]])\n",
        "# Create a Python list that holds the names of the three columns.\n",
        "my_column_names = ['Reg No', 'Name', 'Marks']\n",
        "# Create a DataFrame.\n",
        "my_dataframe = pd.DataFrame(data=my_data, columns=my_column_names)\n",
        "\n",
        "# Print the entire DataFrame\n",
        "print(my_dataframe)"
      ]
    },
    {
      "cell_type": "code",
      "execution_count": null,
      "metadata": {
        "id": "Rwm5eoHovifH"
      },
      "outputs": [],
      "source": [
        "import pandas as pd\n",
        "from google.colab import files\n",
        "uploaded = files.upload()\n",
        "import io\n",
        "df2 = pd.read_csv(io.BytesIO(uploaded['IBBA_2145xx.csv']))\n",
        "print (df2)"
      ]
    },
    {
      "cell_type": "code",
      "execution_count": null,
      "metadata": {
        "id": "PFBglTk9viiG"
      },
      "outputs": [],
      "source": [
        ""
      ]
    },
    {
      "cell_type": "markdown",
      "metadata": {
        "id": "AIviMB9MwJ9T"
      },
      "source": [
        "***ex 5 chap4***"
      ]
    },
    {
      "cell_type": "markdown",
      "metadata": {
        "id": "lebWZHFHwLPn"
      },
      "source": [
        "# This is formatted as code\n",
        "\n"
      ]
    },
    {
      "cell_type": "code",
      "execution_count": null,
      "metadata": {
        "id": "Wr_pl6C1vij-"
      },
      "outputs": [],
      "source": [
        "def fred():\n",
        "  print(\"Zap\")\n",
        "def jane():\n",
        "  print(\"ABC\")\n",
        "jane()\n",
        "fred()\n",
        "jane()"
      ]
    },
    {
      "cell_type": "markdown",
      "metadata": {
        "id": "DDW2PJaTweQw"
      },
      "source": [
        "ex06"
      ]
    },
    {
      "cell_type": "code",
      "execution_count": null,
      "metadata": {
        "id": "Hq0HmCsavirY"
      },
      "outputs": [],
      "source": [
        "def computepay(Hours,rate):\n",
        "  if(Hours>40):\n",
        "    pay=(Hours-40)*1.5*rate+(40*rate)\n",
        "  else:\n",
        "    pay=Hours*rate  \n",
        "  return pay\n",
        "\n",
        "Hours = float(input(\"Enter Hour\\n\"))\n",
        "rate = float(input(\"Enter rate\\n\"))\n",
        "pay = computepay(Hours , rate)  \n",
        "print( 'pay :',pay)"
      ]
    },
    {
      "cell_type": "markdown",
      "metadata": {
        "id": "9egBUoiUwjRu"
      },
      "source": [
        "# ***`ex 7 cahp 4 `***\n"
      ]
    },
    {
      "cell_type": "code",
      "execution_count": null,
      "metadata": {
        "id": "BpGje1mbvit2"
      },
      "outputs": [],
      "source": [
        "def computegrade(score):\n",
        "  if(score<0.0 or score>1.0) :\n",
        "    return(\"Score is out of range!!\")\n",
        "  elif(score>=0.9):\n",
        "    return(\"A\")\n",
        "  elif(score>=0.8):\n",
        "    return(\"B\")\n",
        "  elif(score>=0.7):\n",
        "    return(\"C\")\n",
        "  elif(score>=0.6):\n",
        "    return(\"D\")      \n",
        "  else:\n",
        "    return(\"F\")\n",
        "try:\n",
        "  score=float(input(\"Enter your score\\n\"))\n",
        "  print(computegrade(score))\n",
        "except Exception :\n",
        "  print('Enter a number!!!!!')"
      ]
    },
    {
      "cell_type": "markdown",
      "metadata": {
        "id": "wa-Csn3hwqNb"
      },
      "source": [
        "ex1 chap itration"
      ]
    },
    {
      "cell_type": "code",
      "execution_count": null,
      "metadata": {
        "id": "5LByDo2dviyQ"
      },
      "outputs": [],
      "source": [
        "count=0\n",
        "total=0\n",
        "while True :\n",
        "  value=input('Enter the number\\n')\n",
        "  if (value=='done'):\n",
        "    break\n",
        "  try:\n",
        "    value1=float(value)\n",
        "  except:\n",
        "    print('Invalid input')\n",
        "  total=total+value1\n",
        "  count=count+1\n",
        "print(total,count,total/count)"
      ]
    },
    {
      "cell_type": "markdown",
      "metadata": {
        "id": "LKDqgTHlwv2m"
      },
      "source": [
        "ex 2 chap itration"
      ]
    },
    {
      "cell_type": "code",
      "execution_count": null,
      "metadata": {
        "id": "BgiAmRWtvi3c"
      },
      "outputs": [],
      "source": [
        "count=0\n",
        "list=[]\n",
        "while True :\n",
        "  element=input('Enter the number\\n')\n",
        "  if (element=='done'):\n",
        "    break\n",
        "  try:\n",
        "    value1=float(element)\n",
        "    list.append(value1)\n",
        "    \n",
        "  except:\n",
        "    print('Invalid input')\n",
        "\n",
        "  if count==0 :\n",
        "    min_val=value1\n",
        "    max_val=value1\n",
        "  elif value1<min_val:\n",
        "    min_val=value1\n",
        "  elif value1>max_val:\n",
        "    max_val=value1\n",
        "\n",
        "  count=count+1\n",
        "print('The list of ements are :',list)\n",
        "print(min_val , max_val)"
      ]
    },
    {
      "cell_type": "code",
      "execution_count": null,
      "metadata": {
        "id": "tz4q3M9nvi6f"
      },
      "outputs": [],
      "source": [
        "import numpy as np\n",
        "import pandas as pd\n",
        "import matplotlib.pyplot as plt\n",
        "import seaborn as sns\n",
        "import warnings\n",
        "warnings.filterwarnings('ignore')"
      ]
    },
    {
      "cell_type": "code",
      "execution_count": null,
      "metadata": {
        "id": "U3yuugc6vi9Z"
      },
      "outputs": [],
      "source": [
        "from google.colab import drive\n",
        "drive.mount('/content/drive')\n",
        "data = pd.read_csv(\"Shark_Tank_India_S1.csv\")"
      ]
    },
    {
      "cell_type": "code",
      "execution_count": null,
      "metadata": {
        "id": "7zD_v1SzwI-X"
      },
      "outputs": [],
      "source": [
        "#reading the data\n",
        "data"
      ]
    },
    {
      "cell_type": "code",
      "execution_count": null,
      "metadata": {
        "id": "pCDzqzDxwAsh"
      },
      "outputs": [],
      "source": [
        "#displays the top 5 entries in the dataset\n",
        "data.head ()"
      ]
    },
    {
      "cell_type": "code",
      "execution_count": null,
      "metadata": {
        "id": "7REc6b27ws8Q"
      },
      "outputs": [],
      "source": [
        "data.tail()"
      ]
    },
    {
      "cell_type": "code",
      "execution_count": null,
      "metadata": {
        "id": "k2fdkvIXvjJd"
      },
      "outputs": [],
      "source": [
        "data.shape"
      ]
    },
    {
      "cell_type": "code",
      "execution_count": null,
      "metadata": {
        "id": "WkM05nwEvjMq"
      },
      "outputs": [],
      "source": [
        "data.columns"
      ]
    },
    {
      "cell_type": "markdown",
      "metadata": {
        "id": "DYhQrjpAxexd"
      },
      "source": [
        "Dictionaries"
      ]
    },
    {
      "cell_type": "code",
      "execution_count": null,
      "metadata": {
        "id": "5sVRay0exX0p"
      },
      "outputs": [],
      "source": [
        "eng2sp = dict()\n",
        "print(eng2sp)\n",
        "eng2sp['one'] = 'uno'\n",
        "print(eng2sp)"
      ]
    },
    {
      "cell_type": "code",
      "execution_count": null,
      "metadata": {
        "id": "wIu3A_YOxVLF"
      },
      "outputs": [],
      "source": [
        "# Create the dictionary\n",
        "\n",
        "Dict = {\"key1\": 1, \"key2\": \"2\", \"key3\": [3, 3, 3], \"key4\": (4, 4, 4), ('key5'): 5, (0, 1): 6}\n",
        "Dict"
      ]
    },
    {
      "cell_type": "code",
      "execution_count": null,
      "metadata": {
        "id": "NJLsdvZvxW21"
      },
      "outputs": [],
      "source": [
        "Dict[\"key1\"]"
      ]
    },
    {
      "cell_type": "code",
      "execution_count": null,
      "metadata": {
        "id": "Fc-iav7MvjQn"
      },
      "outputs": [],
      "source": [
        "# Access to the value by the key\n",
        "\n",
        "Dict[(0, 1)]"
      ]
    },
    {
      "cell_type": "code",
      "execution_count": null,
      "metadata": {
        "id": "WK7h-euvvjTF"
      },
      "outputs": [],
      "source": [
        "len(eng2sp)"
      ]
    },
    {
      "cell_type": "markdown",
      "metadata": {
        "id": "ncQd2sTUx4xe"
      },
      "source": [
        "Exercise 1: Download a copy of the file www.py4e.com/code3/words.txt Write a program that reads the words in words.txt and stores them as keys in a dictionary. It doesn’t matter what the values are. Then you can use the in operator as a fast way to check whether a string is in the dictionary\n",
        "\n"
      ]
    },
    {
      "cell_type": "code",
      "execution_count": null,
      "metadata": {
        "id": "uqZ-2bL-vjYO"
      },
      "outputs": [],
      "source": [
        "from google.colab import drive\n",
        "drive.mount('/content/drive')\n",
        "data = pd.view_txt(\"words.txt\")"
      ]
    },
    {
      "cell_type": "markdown",
      "metadata": {
        "id": "KmkXawWlyej_"
      },
      "source": [
        "EXCERCISE 8.4\n",
        "List item\n",
        "List item"
      ]
    },
    {
      "cell_type": "code",
      "execution_count": null,
      "metadata": {
        "id": "9VEfVtD5vjiO"
      },
      "outputs": [],
      "source": [
        "words =[]\n",
        "from google.colab import drive\n",
        "drive.mount('/content/drive', force_remount=1) \n",
        "fhand = open('romeo.txt.txt' , 'r')\n",
        "for line in  fhand :\n",
        " for word in line.split(' '):\n",
        "    if word not in words :\n",
        "        words.append(word)\n",
        "print(sorted(words))\n",
        "#not in order"
      ]
    },
    {
      "cell_type": "code",
      "execution_count": null,
      "metadata": {
        "id": "AS0_kwnrvjl2"
      },
      "outputs": [],
      "source": [
        "from google.colab import drive\n",
        "drive.mount('/content/drive', force_remount=1)\n",
        "data = input(\"Enter the name of the file you want to be processed\")\n",
        "datas = open(data).read()\n",
        "i=0\n",
        "word=[]\n",
        "words = datas.split()\n",
        "length = len(words)\n",
        "while i < length:\n",
        "  t=list(words)\n",
        "  i=i+1\n",
        "\n",
        "print(t)"
      ]
    },
    {
      "cell_type": "markdown",
      "metadata": {
        "id": "HJFTSPBQynL7"
      },
      "source": [
        "EXCERCISE 8.5"
      ]
    },
    {
      "cell_type": "code",
      "execution_count": null,
      "metadata": {
        "id": "r2ytXavvvjsS"
      },
      "outputs": [],
      "source": [
        "from google.colab import drive\n",
        "drive.mount('/content/drive', force_remount=1)\n",
        "data = input(\"Enter the name of the file you want to be processed\")\n",
        "\n",
        "email_data = open(data).read()\n",
        "words = email_data.split()\n",
        "i = 0\n",
        "count=0\n",
        "length = len(words)\n",
        "\n",
        "while i < length:\n",
        "    if words[i] == \"From\":\n",
        "      #new_word=words[i]\n",
        "      count +=1\n",
        "    i=i+1\n",
        "print(\"There were\" , count ,\"  lines in the file which starts with the word  from\")"
      ]
    },
    {
      "cell_type": "markdown",
      "metadata": {
        "id": "uNxCb5Jzy2-R"
      },
      "source": [
        "EXCERCISE 8.6"
      ]
    },
    {
      "cell_type": "code",
      "execution_count": null,
      "metadata": {
        "id": "G2HyHJOxvjza"
      },
      "outputs": [],
      "source": [
        "my_nums = []\n",
        "\n",
        "while True:\n",
        "  a = input(\"Enter a number:\")\n",
        "  if a == 'done' :\n",
        "    break\n",
        "  try:\n",
        "    val = float(a)\n",
        "  except:\n",
        "    print(\"invalid input\")\n",
        "    continue\n",
        "  my_nums.append(val)\n",
        " \n",
        "\n",
        "print(min(my_nums) )\n",
        "print(max(my_nums))"
      ]
    },
    {
      "cell_type": "markdown",
      "metadata": {
        "id": "qmAkASfqy_4Z"
      },
      "source": [
        "\n",
        "EXCERCISE 9.1"
      ]
    },
    {
      "cell_type": "code",
      "execution_count": null,
      "metadata": {
        "id": "g93GmnGuzCMe"
      },
      "outputs": [],
      "source": [
        "from google.colab import drive\n",
        "drive.mount('/content/drive', force_remount=1)\n",
        "data = input(\"Enter the name of the file you want to be processed\")\n",
        "email_data = open(data).read()\n",
        "days = dict()\n",
        "words = email_data.split()\n",
        "\n",
        "i = 0\n",
        "length = len(words)\n",
        "\n",
        "while i < length:\n",
        "    if words[i] == \"From\":\n",
        "        days[words[i+2]] = days.get(words[i+2],0) + 1\n",
        "    i = i + 1\n",
        "\n",
        "print(days)\n",
        "#howmNY mails on particular day"
      ]
    },
    {
      "cell_type": "markdown",
      "metadata": {
        "id": "yvQW0w24zIgp"
      },
      "source": [
        "EXCERCISE 9.3"
      ]
    },
    {
      "cell_type": "code",
      "execution_count": null,
      "metadata": {
        "id": "Qv_A6ZyWzCaS"
      },
      "outputs": [],
      "source": [
        "from google.colab import drive\n",
        "drive.mount('/content/drive', force_remount=1)\n",
        "data = input(\"Enter the name of the file you want to be processed\")\n",
        "email_data = open(data).read()\n",
        "sender = dict()\n",
        "#days = dict()\n",
        "words = email_data.split()\n",
        "\n",
        "i = 0\n",
        "length = len(words)\n",
        "\n",
        "while i < length:\n",
        "    if words[i] == \"From\":\n",
        "        #days[words[i+2]] = days.get(words[i+2],0) + 1\n",
        "        sender[words[i+1]] = sender.get(words[i+1],0) + 1\n",
        "    i = i + 1\n",
        "\n",
        "#print(days)\n",
        "print(sender)"
      ]
    },
    {
      "cell_type": "markdown",
      "metadata": {
        "id": "dDgD5En-zW6-"
      },
      "source": [
        "9.4"
      ]
    },
    {
      "cell_type": "code",
      "execution_count": null,
      "metadata": {
        "id": "KmKKHWjnzZyd"
      },
      "outputs": [],
      "source": [
        "from google.colab import drive\n",
        "drive.mount('/content/drive', force_remount=1)\n",
        "data = input(\"Enter the name of the file you want to be processed\")\n",
        "email_data = open(data).read()\n",
        "domains = dict()\n",
        "\n",
        "words = email_data.split()\n",
        "\n",
        "i = 0\n",
        "length = len(words)\n",
        "\n",
        "while i < length:\n",
        "    if words[i] == \"From\":\n",
        "        emails=words[i+1]\n",
        "        domain=emails.split('@')\n",
        "        domains[domain[1]]=domains.get(domain[1],0)+1\n",
        "    i = i + 1\n",
        "    \n",
        "print(domains)"
      ]
    },
    {
      "cell_type": "markdown",
      "metadata": {
        "id": "1EhjfZ6Ozla5"
      },
      "source": [
        "EXCERCISE 9.5"
      ]
    },
    {
      "cell_type": "code",
      "execution_count": null,
      "metadata": {
        "id": "NhKyQ2GKzZ5h"
      },
      "outputs": [],
      "source": [
        "from google.colab import drive\n",
        "drive.mount('/content/drive', force_remount=1)\n",
        "data = input(\"Enter the name of the file you want to be processed\")\n",
        "email_data = open(data).read()\n",
        "sender = dict()\n",
        "#days = dict()\n",
        "words = email_data.split()\n",
        "\n",
        "i = 0\n",
        "length = len(words)\n",
        "\n",
        "while i < length:\n",
        "    if words[i] == \"From\":\n",
        "        #days[words[i+2]] = days.get(words[i+2],0) + 1\n",
        "        sender[words[i+1]] = sender.get(words[i+1],0) + 1\n",
        "    i=i+1\n",
        "#print(sender)    \n",
        "max_address = None\n",
        "max_emails = 0\n",
        "for k in sender:\n",
        "    if sender[k] > max_emails:\n",
        "      max_address = k\n",
        "      max_emails = sender[k]\n",
        "\n",
        "#print(days)\n",
        "print(max_address,max_emails)"
      ]
    },
    {
      "cell_type": "markdown",
      "metadata": {
        "id": "cGwlSPBvzwG4"
      },
      "source": [
        "tuplels"
      ]
    },
    {
      "cell_type": "code",
      "execution_count": null,
      "metadata": {
        "id": "68Rp8LFOzCoc"
      },
      "outputs": [],
      "source": [
        "data = input(\"Enter the name of the file you want to be processed\")\n",
        "email_data = open(data).read()\n",
        "sender = dict()\n",
        "#days = dict()\n",
        "words = email_data.split()\n",
        "\n",
        "i = 0\n",
        "length = len(words)\n",
        "\n",
        "while i < length:\n",
        "    if words[i] == \"From\":\n",
        "        #days[words[i+2]] = days.get(words[i+2],0) + 1\n",
        "        sender[words[i+1]] = sender.get(words[i+1],0) + 1\n",
        "    i = i + 1\n",
        "\n",
        "#print(days)\n",
        "#print(sender)\n",
        "\n",
        "lst=[]\n",
        "\n",
        "for key,value in sender.items():#creates a list of dictnary;s (key,value) pair in tuple pairs\n",
        "  lst.append((value,key))\n",
        "  \n",
        "lst.sort(reverse=True)\n",
        "print(lst[0])"
      ]
    },
    {
      "cell_type": "code",
      "execution_count": null,
      "metadata": {
        "id": "5UUkokzazCrW"
      },
      "outputs": [],
      "source": [
        "data = input(\"Enter the name of the file you want to be processed\")\n",
        "email_data = open(data).read()\n",
        "hours_of_day = dict()\n",
        "#days = dict()\n",
        "words = email_data.split()\n",
        "i = 0\n",
        "length = len(words)\n",
        "\n",
        "while i < length:\n",
        "    if words[i] == \"From\":\n",
        "        #days[words[i+2]] = days.get(words[i+2],0) + 1\n",
        "        #sender[words[i+1]] = sender.get(words[i+1],0) + 1\n",
        "        time=words[i+5]\n",
        "        time = time.split(\":\")\n",
        "        hours_of_day[time[0]] = hours_of_day.get(time[0],0) + 1\n",
        "    i = i + 1\n",
        "#print(hours_of_day)\n",
        "lst=[]\n",
        "\n",
        "for key,value in hours_of_day.items():#creates a list of dictnary;s (key,value) pair in tuple pairs\n",
        "  lst.append((key,value))\n",
        "  \n",
        "lst.sort()\n",
        "#print(lst)\n",
        "for t in lst :\n",
        "  print(t[0],t[1])"
      ]
    },
    {
      "cell_type": "code",
      "execution_count": null,
      "metadata": {
        "id": "8URg9xLGz5Uc"
      },
      "outputs": [],
      "source": [
        ""
      ]
    }
  ],
  "metadata": {
    "colab": {
      "collapsed_sections": [],
      "name": "myfirstphytonproggram_214506.ipynb",
      "provenance": [],
      "authorship_tag": "ABX9TyOswQjSyf7Clic6tIfSLV+l",
      "include_colab_link": true
    },
    "kernelspec": {
      "display_name": "Python 3",
      "name": "python3"
    },
    "language_info": {
      "name": "python"
    }
  },
  "nbformat": 4,
  "nbformat_minor": 0
}